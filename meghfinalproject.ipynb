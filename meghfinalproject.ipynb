{
 "cells": [
  {
   "cell_type": "code",
   "execution_count": 1,
   "id": "d7230724",
   "metadata": {
    "execution": {
     "iopub.execute_input": "2023-11-21T20:46:02.515531Z",
     "iopub.status.busy": "2023-11-21T20:46:02.515210Z",
     "iopub.status.idle": "2023-11-21T20:46:15.322575Z",
     "shell.execute_reply": "2023-11-21T20:46:15.321818Z"
    },
    "papermill": {
     "duration": 12.818978,
     "end_time": "2023-11-21T20:46:15.325064",
     "exception": false,
     "start_time": "2023-11-21T20:46:02.506086",
     "status": "completed"
    },
    "tags": []
   },
   "outputs": [
    {
     "name": "stderr",
     "output_type": "stream",
     "text": [
      "/opt/conda/lib/python3.10/site-packages/scipy/__init__.py:146: UserWarning: A NumPy version >=1.16.5 and <1.23.0 is required for this version of SciPy (detected version 1.24.3\n",
      "  warnings.warn(f\"A NumPy version >={np_minversion} and <{np_maxversion}\"\n"
     ]
    }
   ],
   "source": [
    "import numpy as np\n",
    "import pandas as pd\n",
    "import tensorflow as tf\n",
    "from tensorflow.keras.models import Model\n",
    "from tensorflow.keras.layers import Dense, Input, Normalization, GRU, Dropout\n",
    "from tensorflow.keras.optimizers import Adam\n",
    "import tensorflow as tf\n",
    "from tensorflow.keras import Sequential\n",
    "from tensorflow.keras.layers import (\n",
    "    BatchNormalization, Conv1D, Conv2D, Dense, Dropout, Flatten, GRU, LSTM, MaxPooling1D, MaxPooling2D, SimpleRNN, Bidirectional\n",
    ")\n",
    "from tensorflow.keras.optimizers import Adam\n",
    "from tensorflow.keras.regularizers import l1, l2\n",
    "from tensorflow.keras.callbacks import EarlyStopping, ReduceLROnPlateau\n",
    "import matplotlib.pyplot as plt\n",
    "import seaborn as sns\n",
    "import os\n",
    "from tensorflow.keras.layers.experimental.preprocessing import Normalization\n",
    "os.environ['TF_DISABLE_META_OPTIMIZER'] = '1'\n",
    "import tensorflow as tf\n",
    "from tensorflow.keras.layers import Input, Normalization, GRU\n",
    "import pandas as pd\n",
    "import matplotlib.pyplot as plt\n",
    "import seaborn as sns"
   ]
  },
  {
   "cell_type": "markdown",
   "id": "b42e856f",
   "metadata": {
    "papermill": {
     "duration": 0.008017,
     "end_time": "2023-11-21T20:46:15.341565",
     "exception": false,
     "start_time": "2023-11-21T20:46:15.333548",
     "status": "completed"
    },
    "tags": []
   },
   "source": [
    "# **Reading the datasets into Dataframe**"
   ]
  },
  {
   "cell_type": "code",
   "execution_count": 2,
   "id": "be3cea64",
   "metadata": {
    "execution": {
     "iopub.execute_input": "2023-11-21T20:46:15.358493Z",
     "iopub.status.busy": "2023-11-21T20:46:15.357969Z",
     "iopub.status.idle": "2023-11-21T20:46:15.659855Z",
     "shell.execute_reply": "2023-11-21T20:46:15.659016Z"
    },
    "papermill": {
     "duration": 0.312787,
     "end_time": "2023-11-21T20:46:15.662030",
     "exception": false,
     "start_time": "2023-11-21T20:46:15.349243",
     "status": "completed"
    },
    "tags": []
   },
   "outputs": [],
   "source": [
    "train_data = pd.read_csv('../input/csc-578-final-project-fall-2023/lsst-train.csv')\n",
    "test_data = pd.read_csv('../input/csc-578-final-project-fall-2023/lsst-test.csv')"
   ]
  },
  {
   "cell_type": "code",
   "execution_count": 3,
   "id": "1a0e93f7",
   "metadata": {
    "execution": {
     "iopub.execute_input": "2023-11-21T20:46:15.696275Z",
     "iopub.status.busy": "2023-11-21T20:46:15.695936Z",
     "iopub.status.idle": "2023-11-21T20:46:15.729016Z",
     "shell.execute_reply": "2023-11-21T20:46:15.727840Z"
    },
    "papermill": {
     "duration": 0.044554,
     "end_time": "2023-11-21T20:46:15.731235",
     "exception": false,
     "start_time": "2023-11-21T20:46:15.686681",
     "status": "completed"
    },
    "tags": []
   },
   "outputs": [
    {
     "name": "stdout",
     "output_type": "stream",
     "text": [
      "<class 'pandas.core.frame.DataFrame'>\n",
      "RangeIndex: 3356 entries, 0 to 3355\n",
      "Columns: 217 entries, f-1-1 to target\n",
      "dtypes: float64(216), object(1)\n",
      "memory usage: 5.6+ MB\n"
     ]
    }
   ],
   "source": [
    "train_data.info()"
   ]
  },
  {
   "cell_type": "code",
   "execution_count": 4,
   "id": "c172a6cb",
   "metadata": {
    "execution": {
     "iopub.execute_input": "2023-11-21T20:46:15.750003Z",
     "iopub.status.busy": "2023-11-21T20:46:15.749672Z",
     "iopub.status.idle": "2023-11-21T20:46:15.782279Z",
     "shell.execute_reply": "2023-11-21T20:46:15.781337Z"
    },
    "papermill": {
     "duration": 0.044325,
     "end_time": "2023-11-21T20:46:15.784452",
     "exception": false,
     "start_time": "2023-11-21T20:46:15.740127",
     "status": "completed"
    },
    "tags": []
   },
   "outputs": [
    {
     "data": {
      "text/html": [
       "<div>\n",
       "<style scoped>\n",
       "    .dataframe tbody tr th:only-of-type {\n",
       "        vertical-align: middle;\n",
       "    }\n",
       "\n",
       "    .dataframe tbody tr th {\n",
       "        vertical-align: top;\n",
       "    }\n",
       "\n",
       "    .dataframe thead th {\n",
       "        text-align: right;\n",
       "    }\n",
       "</style>\n",
       "<table border=\"1\" class=\"dataframe\">\n",
       "  <thead>\n",
       "    <tr style=\"text-align: right;\">\n",
       "      <th></th>\n",
       "      <th>f-1-1</th>\n",
       "      <th>f-1-2</th>\n",
       "      <th>f-1-3</th>\n",
       "      <th>f-1-4</th>\n",
       "      <th>f-1-5</th>\n",
       "      <th>f-1-6</th>\n",
       "      <th>f-1-7</th>\n",
       "      <th>f-1-8</th>\n",
       "      <th>f-1-9</th>\n",
       "      <th>f-1-10</th>\n",
       "      <th>...</th>\n",
       "      <th>f-6-28</th>\n",
       "      <th>f-6-29</th>\n",
       "      <th>f-6-30</th>\n",
       "      <th>f-6-31</th>\n",
       "      <th>f-6-32</th>\n",
       "      <th>f-6-33</th>\n",
       "      <th>f-6-34</th>\n",
       "      <th>f-6-35</th>\n",
       "      <th>f-6-36</th>\n",
       "      <th>target</th>\n",
       "    </tr>\n",
       "  </thead>\n",
       "  <tbody>\n",
       "    <tr>\n",
       "      <th>0</th>\n",
       "      <td>2.57770</td>\n",
       "      <td>-1.18830</td>\n",
       "      <td>-4.98950</td>\n",
       "      <td>-6.4301</td>\n",
       "      <td>-4.6503</td>\n",
       "      <td>-1.02450</td>\n",
       "      <td>1.90420</td>\n",
       "      <td>2.48850</td>\n",
       "      <td>1.360500</td>\n",
       "      <td>0.90286</td>\n",
       "      <td>...</td>\n",
       "      <td>22.36600</td>\n",
       "      <td>-24.7480</td>\n",
       "      <td>-34.21500</td>\n",
       "      <td>7.7464</td>\n",
       "      <td>-5.8332</td>\n",
       "      <td>-0.71757</td>\n",
       "      <td>8.16160</td>\n",
       "      <td>-29.6940</td>\n",
       "      <td>-27.5700</td>\n",
       "      <td>c-90</td>\n",
       "    </tr>\n",
       "    <tr>\n",
       "      <th>1</th>\n",
       "      <td>6.67580</td>\n",
       "      <td>22.54300</td>\n",
       "      <td>44.02700</td>\n",
       "      <td>66.9610</td>\n",
       "      <td>86.0820</td>\n",
       "      <td>96.80400</td>\n",
       "      <td>96.76000</td>\n",
       "      <td>86.49400</td>\n",
       "      <td>69.094000</td>\n",
       "      <td>48.97100</td>\n",
       "      <td>...</td>\n",
       "      <td>19.26700</td>\n",
       "      <td>28.5110</td>\n",
       "      <td>0.97578</td>\n",
       "      <td>-28.0270</td>\n",
       "      <td>-18.0720</td>\n",
       "      <td>-4.00020</td>\n",
       "      <td>-43.07500</td>\n",
       "      <td>-4.7283</td>\n",
       "      <td>-43.0070</td>\n",
       "      <td>c-15</td>\n",
       "    </tr>\n",
       "    <tr>\n",
       "      <th>2</th>\n",
       "      <td>0.37554</td>\n",
       "      <td>-3.10860</td>\n",
       "      <td>-0.26009</td>\n",
       "      <td>3.2281</td>\n",
       "      <td>-1.9951</td>\n",
       "      <td>0.12797</td>\n",
       "      <td>0.25844</td>\n",
       "      <td>-0.25394</td>\n",
       "      <td>-0.091828</td>\n",
       "      <td>2.41440</td>\n",
       "      <td>...</td>\n",
       "      <td>-4.02610</td>\n",
       "      <td>14.5270</td>\n",
       "      <td>50.00500</td>\n",
       "      <td>-13.8860</td>\n",
       "      <td>3.3589</td>\n",
       "      <td>5.00450</td>\n",
       "      <td>-0.47256</td>\n",
       "      <td>-2.7713</td>\n",
       "      <td>1.9379</td>\n",
       "      <td>c-42</td>\n",
       "    </tr>\n",
       "    <tr>\n",
       "      <th>3</th>\n",
       "      <td>0.51852</td>\n",
       "      <td>0.12078</td>\n",
       "      <td>1.53240</td>\n",
       "      <td>5.5783</td>\n",
       "      <td>11.5340</td>\n",
       "      <td>17.01300</td>\n",
       "      <td>18.97100</td>\n",
       "      <td>15.38700</td>\n",
       "      <td>6.685500</td>\n",
       "      <td>-4.07800</td>\n",
       "      <td>...</td>\n",
       "      <td>23.24700</td>\n",
       "      <td>31.9850</td>\n",
       "      <td>26.62100</td>\n",
       "      <td>-12.2560</td>\n",
       "      <td>3.4805</td>\n",
       "      <td>23.80500</td>\n",
       "      <td>-32.36400</td>\n",
       "      <td>-15.1610</td>\n",
       "      <td>-14.4500</td>\n",
       "      <td>c-16</td>\n",
       "    </tr>\n",
       "    <tr>\n",
       "      <th>4</th>\n",
       "      <td>1.47150</td>\n",
       "      <td>1.44510</td>\n",
       "      <td>2.91330</td>\n",
       "      <td>1.0015</td>\n",
       "      <td>-1.2503</td>\n",
       "      <td>1.55160</td>\n",
       "      <td>1.73170</td>\n",
       "      <td>0.47796</td>\n",
       "      <td>0.539860</td>\n",
       "      <td>-1.71690</td>\n",
       "      <td>...</td>\n",
       "      <td>-0.18477</td>\n",
       "      <td>3.8533</td>\n",
       "      <td>-5.80000</td>\n",
       "      <td>1.4909</td>\n",
       "      <td>2.7581</td>\n",
       "      <td>-3.16650</td>\n",
       "      <td>-0.30058</td>\n",
       "      <td>6.6334</td>\n",
       "      <td>7.3427</td>\n",
       "      <td>c-67</td>\n",
       "    </tr>\n",
       "  </tbody>\n",
       "</table>\n",
       "<p>5 rows × 217 columns</p>\n",
       "</div>"
      ],
      "text/plain": [
       "     f-1-1     f-1-2     f-1-3    f-1-4    f-1-5     f-1-6     f-1-7  \\\n",
       "0  2.57770  -1.18830  -4.98950  -6.4301  -4.6503  -1.02450   1.90420   \n",
       "1  6.67580  22.54300  44.02700  66.9610  86.0820  96.80400  96.76000   \n",
       "2  0.37554  -3.10860  -0.26009   3.2281  -1.9951   0.12797   0.25844   \n",
       "3  0.51852   0.12078   1.53240   5.5783  11.5340  17.01300  18.97100   \n",
       "4  1.47150   1.44510   2.91330   1.0015  -1.2503   1.55160   1.73170   \n",
       "\n",
       "      f-1-8      f-1-9    f-1-10  ...    f-6-28   f-6-29    f-6-30   f-6-31  \\\n",
       "0   2.48850   1.360500   0.90286  ...  22.36600 -24.7480 -34.21500   7.7464   \n",
       "1  86.49400  69.094000  48.97100  ...  19.26700  28.5110   0.97578 -28.0270   \n",
       "2  -0.25394  -0.091828   2.41440  ...  -4.02610  14.5270  50.00500 -13.8860   \n",
       "3  15.38700   6.685500  -4.07800  ...  23.24700  31.9850  26.62100 -12.2560   \n",
       "4   0.47796   0.539860  -1.71690  ...  -0.18477   3.8533  -5.80000   1.4909   \n",
       "\n",
       "    f-6-32    f-6-33    f-6-34   f-6-35   f-6-36  target  \n",
       "0  -5.8332  -0.71757   8.16160 -29.6940 -27.5700    c-90  \n",
       "1 -18.0720  -4.00020 -43.07500  -4.7283 -43.0070    c-15  \n",
       "2   3.3589   5.00450  -0.47256  -2.7713   1.9379    c-42  \n",
       "3   3.4805  23.80500 -32.36400 -15.1610 -14.4500    c-16  \n",
       "4   2.7581  -3.16650  -0.30058   6.6334   7.3427    c-67  \n",
       "\n",
       "[5 rows x 217 columns]"
      ]
     },
     "execution_count": 4,
     "metadata": {},
     "output_type": "execute_result"
    }
   ],
   "source": [
    "train_data.head()"
   ]
  },
  {
   "cell_type": "code",
   "execution_count": 5,
   "id": "0024a8bf",
   "metadata": {
    "execution": {
     "iopub.execute_input": "2023-11-21T20:46:15.803410Z",
     "iopub.status.busy": "2023-11-21T20:46:15.803090Z",
     "iopub.status.idle": "2023-11-21T20:46:15.830330Z",
     "shell.execute_reply": "2023-11-21T20:46:15.829495Z"
    },
    "papermill": {
     "duration": 0.038915,
     "end_time": "2023-11-21T20:46:15.832450",
     "exception": false,
     "start_time": "2023-11-21T20:46:15.793535",
     "status": "completed"
    },
    "tags": []
   },
   "outputs": [
    {
     "data": {
      "text/html": [
       "<div>\n",
       "<style scoped>\n",
       "    .dataframe tbody tr th:only-of-type {\n",
       "        vertical-align: middle;\n",
       "    }\n",
       "\n",
       "    .dataframe tbody tr th {\n",
       "        vertical-align: top;\n",
       "    }\n",
       "\n",
       "    .dataframe thead th {\n",
       "        text-align: right;\n",
       "    }\n",
       "</style>\n",
       "<table border=\"1\" class=\"dataframe\">\n",
       "  <thead>\n",
       "    <tr style=\"text-align: right;\">\n",
       "      <th></th>\n",
       "      <th>f-1-1</th>\n",
       "      <th>f-1-2</th>\n",
       "      <th>f-1-3</th>\n",
       "      <th>f-1-4</th>\n",
       "      <th>f-1-5</th>\n",
       "      <th>f-1-6</th>\n",
       "      <th>f-1-7</th>\n",
       "      <th>f-1-8</th>\n",
       "      <th>f-1-9</th>\n",
       "      <th>f-1-10</th>\n",
       "      <th>...</th>\n",
       "      <th>f-6-27</th>\n",
       "      <th>f-6-28</th>\n",
       "      <th>f-6-29</th>\n",
       "      <th>f-6-30</th>\n",
       "      <th>f-6-31</th>\n",
       "      <th>f-6-32</th>\n",
       "      <th>f-6-33</th>\n",
       "      <th>f-6-34</th>\n",
       "      <th>f-6-35</th>\n",
       "      <th>f-6-36</th>\n",
       "    </tr>\n",
       "  </thead>\n",
       "  <tbody>\n",
       "    <tr>\n",
       "      <th>0</th>\n",
       "      <td>25.575000</td>\n",
       "      <td>25.5650</td>\n",
       "      <td>6.8052</td>\n",
       "      <td>-26.012</td>\n",
       "      <td>-55.1290</td>\n",
       "      <td>-62.0750</td>\n",
       "      <td>-43.3400</td>\n",
       "      <td>-14.26500</td>\n",
       "      <td>4.03600</td>\n",
       "      <td>2.8128</td>\n",
       "      <td>...</td>\n",
       "      <td>114.9600</td>\n",
       "      <td>116.3700</td>\n",
       "      <td>69.0540</td>\n",
       "      <td>11.8250</td>\n",
       "      <td>29.5960</td>\n",
       "      <td>55.14500</td>\n",
       "      <td>1.0701</td>\n",
       "      <td>-31.4420</td>\n",
       "      <td>20.914</td>\n",
       "      <td>39.9590</td>\n",
       "    </tr>\n",
       "    <tr>\n",
       "      <th>1</th>\n",
       "      <td>2.432400</td>\n",
       "      <td>10.4920</td>\n",
       "      <td>16.6900</td>\n",
       "      <td>14.609</td>\n",
       "      <td>3.8112</td>\n",
       "      <td>-8.9224</td>\n",
       "      <td>-15.1370</td>\n",
       "      <td>-11.82400</td>\n",
       "      <td>-3.60240</td>\n",
       "      <td>2.0792</td>\n",
       "      <td>...</td>\n",
       "      <td>16.7950</td>\n",
       "      <td>3.3646</td>\n",
       "      <td>5.7902</td>\n",
       "      <td>52.7540</td>\n",
       "      <td>-19.5210</td>\n",
       "      <td>-9.35210</td>\n",
       "      <td>63.4920</td>\n",
       "      <td>-17.8800</td>\n",
       "      <td>-40.938</td>\n",
       "      <td>6.2865</td>\n",
       "    </tr>\n",
       "    <tr>\n",
       "      <th>2</th>\n",
       "      <td>-0.166710</td>\n",
       "      <td>-1.0756</td>\n",
       "      <td>-0.8531</td>\n",
       "      <td>1.626</td>\n",
       "      <td>-1.8959</td>\n",
       "      <td>2.4717</td>\n",
       "      <td>-0.2629</td>\n",
       "      <td>-1.43750</td>\n",
       "      <td>0.89766</td>\n",
       "      <td>-2.4570</td>\n",
       "      <td>...</td>\n",
       "      <td>-3.3971</td>\n",
       "      <td>-8.2973</td>\n",
       "      <td>8.8071</td>\n",
       "      <td>-3.6586</td>\n",
       "      <td>-6.4716</td>\n",
       "      <td>0.87079</td>\n",
       "      <td>2.6530</td>\n",
       "      <td>2.2138</td>\n",
       "      <td>-1.323</td>\n",
       "      <td>-2.1806</td>\n",
       "    </tr>\n",
       "    <tr>\n",
       "      <th>3</th>\n",
       "      <td>-4.800300</td>\n",
       "      <td>-3.5558</td>\n",
       "      <td>-5.2497</td>\n",
       "      <td>-10.011</td>\n",
       "      <td>-10.9800</td>\n",
       "      <td>-3.5785</td>\n",
       "      <td>4.9622</td>\n",
       "      <td>2.28200</td>\n",
       "      <td>-11.07200</td>\n",
       "      <td>-17.1180</td>\n",
       "      <td>...</td>\n",
       "      <td>2.9662</td>\n",
       "      <td>-6.1161</td>\n",
       "      <td>-34.6170</td>\n",
       "      <td>-96.5080</td>\n",
       "      <td>-94.9050</td>\n",
       "      <td>-8.84960</td>\n",
       "      <td>48.7190</td>\n",
       "      <td>-15.2810</td>\n",
       "      <td>-15.786</td>\n",
       "      <td>34.8360</td>\n",
       "    </tr>\n",
       "    <tr>\n",
       "      <th>4</th>\n",
       "      <td>-0.048579</td>\n",
       "      <td>-11.9320</td>\n",
       "      <td>-25.6890</td>\n",
       "      <td>-35.259</td>\n",
       "      <td>-36.0600</td>\n",
       "      <td>-27.6460</td>\n",
       "      <td>-13.9240</td>\n",
       "      <td>-0.79703</td>\n",
       "      <td>7.31190</td>\n",
       "      <td>9.8219</td>\n",
       "      <td>...</td>\n",
       "      <td>63.1690</td>\n",
       "      <td>64.7760</td>\n",
       "      <td>53.0120</td>\n",
       "      <td>-83.1160</td>\n",
       "      <td>-50.6480</td>\n",
       "      <td>79.74300</td>\n",
       "      <td>-16.5700</td>\n",
       "      <td>74.2040</td>\n",
       "      <td>72.036</td>\n",
       "      <td>100.2200</td>\n",
       "    </tr>\n",
       "  </tbody>\n",
       "</table>\n",
       "<p>5 rows × 216 columns</p>\n",
       "</div>"
      ],
      "text/plain": [
       "       f-1-1    f-1-2    f-1-3   f-1-4    f-1-5    f-1-6    f-1-7     f-1-8  \\\n",
       "0  25.575000  25.5650   6.8052 -26.012 -55.1290 -62.0750 -43.3400 -14.26500   \n",
       "1   2.432400  10.4920  16.6900  14.609   3.8112  -8.9224 -15.1370 -11.82400   \n",
       "2  -0.166710  -1.0756  -0.8531   1.626  -1.8959   2.4717  -0.2629  -1.43750   \n",
       "3  -4.800300  -3.5558  -5.2497 -10.011 -10.9800  -3.5785   4.9622   2.28200   \n",
       "4  -0.048579 -11.9320 -25.6890 -35.259 -36.0600 -27.6460 -13.9240  -0.79703   \n",
       "\n",
       "      f-1-9   f-1-10  ...    f-6-27    f-6-28   f-6-29   f-6-30   f-6-31  \\\n",
       "0   4.03600   2.8128  ...  114.9600  116.3700  69.0540  11.8250  29.5960   \n",
       "1  -3.60240   2.0792  ...   16.7950    3.3646   5.7902  52.7540 -19.5210   \n",
       "2   0.89766  -2.4570  ...   -3.3971   -8.2973   8.8071  -3.6586  -6.4716   \n",
       "3 -11.07200 -17.1180  ...    2.9662   -6.1161 -34.6170 -96.5080 -94.9050   \n",
       "4   7.31190   9.8219  ...   63.1690   64.7760  53.0120 -83.1160 -50.6480   \n",
       "\n",
       "     f-6-32   f-6-33   f-6-34  f-6-35    f-6-36  \n",
       "0  55.14500   1.0701 -31.4420  20.914   39.9590  \n",
       "1  -9.35210  63.4920 -17.8800 -40.938    6.2865  \n",
       "2   0.87079   2.6530   2.2138  -1.323   -2.1806  \n",
       "3  -8.84960  48.7190 -15.2810 -15.786   34.8360  \n",
       "4  79.74300 -16.5700  74.2040  72.036  100.2200  \n",
       "\n",
       "[5 rows x 216 columns]"
      ]
     },
     "execution_count": 5,
     "metadata": {},
     "output_type": "execute_result"
    }
   ],
   "source": [
    "test_data.head()"
   ]
  },
  {
   "cell_type": "markdown",
   "id": "17d7710d",
   "metadata": {
    "papermill": {
     "duration": 0.009415,
     "end_time": "2023-11-21T20:46:15.850682",
     "exception": false,
     "start_time": "2023-11-21T20:46:15.841267",
     "status": "completed"
    },
    "tags": []
   },
   "source": [
    "# ****Converting the target column ('target'; y) to integers****"
   ]
  },
  {
   "cell_type": "code",
   "execution_count": 6,
   "id": "0eea59f9",
   "metadata": {
    "execution": {
     "iopub.execute_input": "2023-11-21T20:46:15.870806Z",
     "iopub.status.busy": "2023-11-21T20:46:15.870281Z",
     "iopub.status.idle": "2023-11-21T20:46:15.875371Z",
     "shell.execute_reply": "2023-11-21T20:46:15.874284Z"
    },
    "papermill": {
     "duration": 0.017976,
     "end_time": "2023-11-21T20:46:15.878142",
     "exception": false,
     "start_time": "2023-11-21T20:46:15.860166",
     "status": "completed"
    },
    "tags": []
   },
   "outputs": [],
   "source": [
    "class_mapping_dict = {\n",
    "    'c-15': 0, 'c-16': 1, 'c-42': 2, 'c-52': 3, 'c-62': 4, \n",
    "    'c-65': 5, 'c-67': 6, 'c-88': 7, 'c-90': 8, 'c-92': 9, 'c-95': 10\n",
    "}"
   ]
  },
  {
   "cell_type": "markdown",
   "id": "7bee6646",
   "metadata": {
    "papermill": {
     "duration": 0.012073,
     "end_time": "2023-11-21T20:46:15.903451",
     "exception": false,
     "start_time": "2023-11-21T20:46:15.891378",
     "status": "completed"
    },
    "tags": []
   },
   "source": [
    "# **Reshaping the x part (216 features, excluding the y target column) to (-1, timesteps, features)**"
   ]
  },
  {
   "cell_type": "code",
   "execution_count": 7,
   "id": "0745d83b",
   "metadata": {
    "execution": {
     "iopub.execute_input": "2023-11-21T20:46:15.934573Z",
     "iopub.status.busy": "2023-11-21T20:46:15.933559Z",
     "iopub.status.idle": "2023-11-21T20:46:15.954184Z",
     "shell.execute_reply": "2023-11-21T20:46:15.952581Z"
    },
    "papermill": {
     "duration": 0.041479,
     "end_time": "2023-11-21T20:46:15.958226",
     "exception": false,
     "start_time": "2023-11-21T20:46:15.916747",
     "status": "completed"
    },
    "tags": []
   },
   "outputs": [
    {
     "name": "stdout",
     "output_type": "stream",
     "text": [
      "Shape of Reshaped Training Features: (3356, 6, 36)\n",
      "Shape of Reshaped Target: (3356, 1)\n",
      "Shape of Reshaped Test Features: (1439, 6, 36)\n"
     ]
    }
   ],
   "source": [
    "train_data['target'] = train_data['target'].map(class_mapping_dict)\n",
    "features = train_data.drop('target', axis=1)\n",
    "target = train_data['target']\n",
    "target_array = np.array(target).reshape(-1, 1)\n",
    "\n",
    "num_timesteps = 6  \n",
    "num_features_per_timestep = 36  \n",
    "\n",
    "\n",
    "features_reshaped = features.values.reshape(-1, num_timesteps, num_features_per_timestep)\n",
    "test_features_reshaped = test_data.values.reshape(-1, num_timesteps, num_features_per_timestep)\n",
    "\n",
    "\n",
    "print(f\"Shape of Reshaped Training Features: {features_reshaped.shape}\")\n",
    "print(f\"Shape of Reshaped Target: {target_array.shape}\")\n",
    "print(f\"Shape of Reshaped Test Features: {test_features_reshaped.shape}\")"
   ]
  },
  {
   "cell_type": "code",
   "execution_count": 8,
   "id": "63e01d39",
   "metadata": {
    "execution": {
     "iopub.execute_input": "2023-11-21T20:46:15.985330Z",
     "iopub.status.busy": "2023-11-21T20:46:15.985003Z",
     "iopub.status.idle": "2023-11-21T20:46:15.991648Z",
     "shell.execute_reply": "2023-11-21T20:46:15.990851Z"
    },
    "papermill": {
     "duration": 0.019399,
     "end_time": "2023-11-21T20:46:15.993631",
     "exception": false,
     "start_time": "2023-11-21T20:46:15.974232",
     "status": "completed"
    },
    "tags": []
   },
   "outputs": [
    {
     "data": {
      "text/plain": [
       "'from sklearn.preprocessing import MinMaxScaler\\nimport numpy as np\\n\\nnum_instances = 3356  # For training data\\nnum_test_instances = 1439  # For test data\\ntimesteps = 6\\nfeatures_per_timestep = 36\\n\\nX_train = X.values\\n\\nprint(\"Original shape:\", X_train.shape)\\n\\nexpected_features = timesteps * features_per_timestep\\n\\n\\nassert X_train.shape[1] == expected_features, f\"Expected {expected_features} features, but got {X_train.shape[1]}\"\\n\\n\\nX_train_reshaped = X_train.reshape(num_instances, timesteps, features_per_timestep)\\n\\nX_train_flattened = X_train_reshaped.reshape(-1, features_per_timestep)\\nscaler = MinMaxScaler()\\nX_train_scaled = scaler.fit_transform(X_train_flattened)\\nX_train_scaled = X_train_scaled.reshape(num_instances, timesteps, features_per_timestep)\"\"\\n'"
      ]
     },
     "execution_count": 8,
     "metadata": {},
     "output_type": "execute_result"
    }
   ],
   "source": [
    "'''from sklearn.preprocessing import MinMaxScaler\n",
    "import numpy as np\n",
    "\n",
    "num_instances = 3356  # For training data\n",
    "num_test_instances = 1439  # For test data\n",
    "timesteps = 6\n",
    "features_per_timestep = 36\n",
    "\n",
    "X_train = X.values\n",
    "\n",
    "print(\"Original shape:\", X_train.shape)\n",
    "\n",
    "expected_features = timesteps * features_per_timestep\n",
    "\n",
    "\n",
    "assert X_train.shape[1] == expected_features, f\"Expected {expected_features} features, but got {X_train.shape[1]}\"\n",
    "\n",
    "\n",
    "X_train_reshaped = X_train.reshape(num_instances, timesteps, features_per_timestep)\n",
    "\n",
    "X_train_flattened = X_train_reshaped.reshape(-1, features_per_timestep)\n",
    "scaler = MinMaxScaler()\n",
    "X_train_scaled = scaler.fit_transform(X_train_flattened)\n",
    "X_train_scaled = X_train_scaled.reshape(num_instances, timesteps, features_per_timestep)\"\"\n",
    "'''"
   ]
  },
  {
   "cell_type": "markdown",
   "id": "6f4a087d",
   "metadata": {
    "papermill": {
     "duration": 0.008651,
     "end_time": "2023-11-21T20:46:16.011098",
     "exception": false,
     "start_time": "2023-11-21T20:46:16.002447",
     "status": "completed"
    },
    "tags": []
   },
   "source": [
    "# **EDA(Exploratory Data Analysis)**"
   ]
  },
  {
   "cell_type": "code",
   "execution_count": 9,
   "id": "37c59107",
   "metadata": {
    "execution": {
     "iopub.execute_input": "2023-11-21T20:46:16.029386Z",
     "iopub.status.busy": "2023-11-21T20:46:16.029110Z",
     "iopub.status.idle": "2023-11-21T20:46:16.669286Z",
     "shell.execute_reply": "2023-11-21T20:46:16.668337Z"
    },
    "papermill": {
     "duration": 0.65173,
     "end_time": "2023-11-21T20:46:16.671539",
     "exception": false,
     "start_time": "2023-11-21T20:46:16.019809",
     "status": "completed"
    },
    "tags": []
   },
   "outputs": [
    {
     "data": {
      "text/html": [
       "<div>\n",
       "<style scoped>\n",
       "    .dataframe tbody tr th:only-of-type {\n",
       "        vertical-align: middle;\n",
       "    }\n",
       "\n",
       "    .dataframe tbody tr th {\n",
       "        vertical-align: top;\n",
       "    }\n",
       "\n",
       "    .dataframe thead th {\n",
       "        text-align: right;\n",
       "    }\n",
       "</style>\n",
       "<table border=\"1\" class=\"dataframe\">\n",
       "  <thead>\n",
       "    <tr style=\"text-align: right;\">\n",
       "      <th></th>\n",
       "      <th>f-1-1</th>\n",
       "      <th>f-1-2</th>\n",
       "      <th>f-1-3</th>\n",
       "      <th>f-1-4</th>\n",
       "      <th>f-1-5</th>\n",
       "      <th>f-1-6</th>\n",
       "      <th>f-1-7</th>\n",
       "      <th>f-1-8</th>\n",
       "      <th>f-1-9</th>\n",
       "      <th>f-1-10</th>\n",
       "      <th>...</th>\n",
       "      <th>f-6-28</th>\n",
       "      <th>f-6-29</th>\n",
       "      <th>f-6-30</th>\n",
       "      <th>f-6-31</th>\n",
       "      <th>f-6-32</th>\n",
       "      <th>f-6-33</th>\n",
       "      <th>f-6-34</th>\n",
       "      <th>f-6-35</th>\n",
       "      <th>f-6-36</th>\n",
       "      <th>target</th>\n",
       "    </tr>\n",
       "  </thead>\n",
       "  <tbody>\n",
       "    <tr>\n",
       "      <th>count</th>\n",
       "      <td>3356.000000</td>\n",
       "      <td>3356.000000</td>\n",
       "      <td>3356.000000</td>\n",
       "      <td>3356.000000</td>\n",
       "      <td>3356.000000</td>\n",
       "      <td>3356.000000</td>\n",
       "      <td>3356.000000</td>\n",
       "      <td>3356.000000</td>\n",
       "      <td>3356.000000</td>\n",
       "      <td>3356.000000</td>\n",
       "      <td>...</td>\n",
       "      <td>3356.000000</td>\n",
       "      <td>3356.000000</td>\n",
       "      <td>3356.000000</td>\n",
       "      <td>3356.000000</td>\n",
       "      <td>3356.000000</td>\n",
       "      <td>3356.000000</td>\n",
       "      <td>3356.000000</td>\n",
       "      <td>3356.000000</td>\n",
       "      <td>3356.000000</td>\n",
       "      <td>3356.000000</td>\n",
       "    </tr>\n",
       "    <tr>\n",
       "      <th>mean</th>\n",
       "      <td>-4.845680</td>\n",
       "      <td>-20.507007</td>\n",
       "      <td>-40.382614</td>\n",
       "      <td>-58.571202</td>\n",
       "      <td>-65.123248</td>\n",
       "      <td>-51.209399</td>\n",
       "      <td>-23.231640</td>\n",
       "      <td>13.316969</td>\n",
       "      <td>44.769287</td>\n",
       "      <td>57.253837</td>\n",
       "      <td>...</td>\n",
       "      <td>23.303395</td>\n",
       "      <td>31.173772</td>\n",
       "      <td>35.880359</td>\n",
       "      <td>21.994666</td>\n",
       "      <td>40.204407</td>\n",
       "      <td>36.194471</td>\n",
       "      <td>40.620329</td>\n",
       "      <td>34.427839</td>\n",
       "      <td>22.534426</td>\n",
       "      <td>5.036353</td>\n",
       "    </tr>\n",
       "    <tr>\n",
       "      <th>std</th>\n",
       "      <td>654.233394</td>\n",
       "      <td>1499.807391</td>\n",
       "      <td>2633.959032</td>\n",
       "      <td>3686.098932</td>\n",
       "      <td>4131.527136</td>\n",
       "      <td>3566.682553</td>\n",
       "      <td>2008.718684</td>\n",
       "      <td>244.113712</td>\n",
       "      <td>1720.477752</td>\n",
       "      <td>2396.610282</td>\n",
       "      <td>...</td>\n",
       "      <td>849.868650</td>\n",
       "      <td>1001.047050</td>\n",
       "      <td>866.123714</td>\n",
       "      <td>844.841340</td>\n",
       "      <td>761.703035</td>\n",
       "      <td>929.226515</td>\n",
       "      <td>766.261638</td>\n",
       "      <td>669.313280</td>\n",
       "      <td>624.198767</td>\n",
       "      <td>2.981691</td>\n",
       "    </tr>\n",
       "    <tr>\n",
       "      <th>min</th>\n",
       "      <td>-36742.000000</td>\n",
       "      <td>-86306.000000</td>\n",
       "      <td>-152200.000000</td>\n",
       "      <td>-213250.000000</td>\n",
       "      <td>-239080.000000</td>\n",
       "      <td>-206250.000000</td>\n",
       "      <td>-115650.000000</td>\n",
       "      <td>-2614.700000</td>\n",
       "      <td>-2612.500000</td>\n",
       "      <td>-2660.500000</td>\n",
       "      <td>...</td>\n",
       "      <td>-8051.100000</td>\n",
       "      <td>-6181.200000</td>\n",
       "      <td>-3469.700000</td>\n",
       "      <td>-7769.400000</td>\n",
       "      <td>-5531.100000</td>\n",
       "      <td>-4976.000000</td>\n",
       "      <td>-4500.400000</td>\n",
       "      <td>-4970.400000</td>\n",
       "      <td>-6428.800000</td>\n",
       "      <td>0.000000</td>\n",
       "    </tr>\n",
       "    <tr>\n",
       "      <th>25%</th>\n",
       "      <td>-3.495800</td>\n",
       "      <td>-3.525075</td>\n",
       "      <td>-3.701800</td>\n",
       "      <td>-3.282000</td>\n",
       "      <td>-3.701875</td>\n",
       "      <td>-3.759050</td>\n",
       "      <td>-3.909425</td>\n",
       "      <td>-3.711875</td>\n",
       "      <td>-3.606625</td>\n",
       "      <td>-3.837675</td>\n",
       "      <td>...</td>\n",
       "      <td>-7.827600</td>\n",
       "      <td>-8.183275</td>\n",
       "      <td>-9.687000</td>\n",
       "      <td>-8.257550</td>\n",
       "      <td>-8.433600</td>\n",
       "      <td>-9.113850</td>\n",
       "      <td>-7.170325</td>\n",
       "      <td>-6.773500</td>\n",
       "      <td>-6.616750</td>\n",
       "      <td>2.000000</td>\n",
       "    </tr>\n",
       "    <tr>\n",
       "      <th>50%</th>\n",
       "      <td>0.161940</td>\n",
       "      <td>0.295455</td>\n",
       "      <td>0.249125</td>\n",
       "      <td>0.250685</td>\n",
       "      <td>0.239915</td>\n",
       "      <td>0.289920</td>\n",
       "      <td>0.151075</td>\n",
       "      <td>0.243760</td>\n",
       "      <td>0.239780</td>\n",
       "      <td>0.437120</td>\n",
       "      <td>...</td>\n",
       "      <td>2.322750</td>\n",
       "      <td>2.455450</td>\n",
       "      <td>2.531550</td>\n",
       "      <td>2.643250</td>\n",
       "      <td>2.256650</td>\n",
       "      <td>1.895550</td>\n",
       "      <td>1.953750</td>\n",
       "      <td>2.508300</td>\n",
       "      <td>2.139850</td>\n",
       "      <td>5.000000</td>\n",
       "    </tr>\n",
       "    <tr>\n",
       "      <th>75%</th>\n",
       "      <td>4.282250</td>\n",
       "      <td>5.411400</td>\n",
       "      <td>5.677875</td>\n",
       "      <td>5.521125</td>\n",
       "      <td>5.635400</td>\n",
       "      <td>5.528575</td>\n",
       "      <td>5.065300</td>\n",
       "      <td>5.549250</td>\n",
       "      <td>5.743625</td>\n",
       "      <td>5.688400</td>\n",
       "      <td>...</td>\n",
       "      <td>22.598750</td>\n",
       "      <td>22.693500</td>\n",
       "      <td>23.755250</td>\n",
       "      <td>21.542500</td>\n",
       "      <td>21.396250</td>\n",
       "      <td>17.897000</td>\n",
       "      <td>19.806000</td>\n",
       "      <td>20.082250</td>\n",
       "      <td>18.025500</td>\n",
       "      <td>8.000000</td>\n",
       "    </tr>\n",
       "    <tr>\n",
       "      <th>max</th>\n",
       "      <td>3657.500000</td>\n",
       "      <td>3850.500000</td>\n",
       "      <td>3596.400000</td>\n",
       "      <td>3062.700000</td>\n",
       "      <td>4926.500000</td>\n",
       "      <td>7348.900000</td>\n",
       "      <td>7700.400000</td>\n",
       "      <td>7534.100000</td>\n",
       "      <td>98053.000000</td>\n",
       "      <td>137160.000000</td>\n",
       "      <td>...</td>\n",
       "      <td>44147.000000</td>\n",
       "      <td>53188.000000</td>\n",
       "      <td>45659.000000</td>\n",
       "      <td>44205.000000</td>\n",
       "      <td>37844.000000</td>\n",
       "      <td>41223.000000</td>\n",
       "      <td>33145.000000</td>\n",
       "      <td>27162.000000</td>\n",
       "      <td>26679.000000</td>\n",
       "      <td>10.000000</td>\n",
       "    </tr>\n",
       "  </tbody>\n",
       "</table>\n",
       "<p>8 rows × 217 columns</p>\n",
       "</div>"
      ],
      "text/plain": [
       "              f-1-1         f-1-2          f-1-3          f-1-4  \\\n",
       "count   3356.000000   3356.000000    3356.000000    3356.000000   \n",
       "mean      -4.845680    -20.507007     -40.382614     -58.571202   \n",
       "std      654.233394   1499.807391    2633.959032    3686.098932   \n",
       "min   -36742.000000 -86306.000000 -152200.000000 -213250.000000   \n",
       "25%       -3.495800     -3.525075      -3.701800      -3.282000   \n",
       "50%        0.161940      0.295455       0.249125       0.250685   \n",
       "75%        4.282250      5.411400       5.677875       5.521125   \n",
       "max     3657.500000   3850.500000    3596.400000    3062.700000   \n",
       "\n",
       "               f-1-5          f-1-6          f-1-7        f-1-8         f-1-9  \\\n",
       "count    3356.000000    3356.000000    3356.000000  3356.000000   3356.000000   \n",
       "mean      -65.123248     -51.209399     -23.231640    13.316969     44.769287   \n",
       "std      4131.527136    3566.682553    2008.718684   244.113712   1720.477752   \n",
       "min   -239080.000000 -206250.000000 -115650.000000 -2614.700000  -2612.500000   \n",
       "25%        -3.701875      -3.759050      -3.909425    -3.711875     -3.606625   \n",
       "50%         0.239915       0.289920       0.151075     0.243760      0.239780   \n",
       "75%         5.635400       5.528575       5.065300     5.549250      5.743625   \n",
       "max      4926.500000    7348.900000    7700.400000  7534.100000  98053.000000   \n",
       "\n",
       "              f-1-10  ...        f-6-28        f-6-29        f-6-30  \\\n",
       "count    3356.000000  ...   3356.000000   3356.000000   3356.000000   \n",
       "mean       57.253837  ...     23.303395     31.173772     35.880359   \n",
       "std      2396.610282  ...    849.868650   1001.047050    866.123714   \n",
       "min     -2660.500000  ...  -8051.100000  -6181.200000  -3469.700000   \n",
       "25%        -3.837675  ...     -7.827600     -8.183275     -9.687000   \n",
       "50%         0.437120  ...      2.322750      2.455450      2.531550   \n",
       "75%         5.688400  ...     22.598750     22.693500     23.755250   \n",
       "max    137160.000000  ...  44147.000000  53188.000000  45659.000000   \n",
       "\n",
       "             f-6-31        f-6-32        f-6-33        f-6-34        f-6-35  \\\n",
       "count   3356.000000   3356.000000   3356.000000   3356.000000   3356.000000   \n",
       "mean      21.994666     40.204407     36.194471     40.620329     34.427839   \n",
       "std      844.841340    761.703035    929.226515    766.261638    669.313280   \n",
       "min    -7769.400000  -5531.100000  -4976.000000  -4500.400000  -4970.400000   \n",
       "25%       -8.257550     -8.433600     -9.113850     -7.170325     -6.773500   \n",
       "50%        2.643250      2.256650      1.895550      1.953750      2.508300   \n",
       "75%       21.542500     21.396250     17.897000     19.806000     20.082250   \n",
       "max    44205.000000  37844.000000  41223.000000  33145.000000  27162.000000   \n",
       "\n",
       "             f-6-36       target  \n",
       "count   3356.000000  3356.000000  \n",
       "mean      22.534426     5.036353  \n",
       "std      624.198767     2.981691  \n",
       "min    -6428.800000     0.000000  \n",
       "25%       -6.616750     2.000000  \n",
       "50%        2.139850     5.000000  \n",
       "75%       18.025500     8.000000  \n",
       "max    26679.000000    10.000000  \n",
       "\n",
       "[8 rows x 217 columns]"
      ]
     },
     "execution_count": 9,
     "metadata": {},
     "output_type": "execute_result"
    }
   ],
   "source": [
    "train_data.describe(include='all') "
   ]
  },
  {
   "cell_type": "code",
   "execution_count": 10,
   "id": "ab4434c2",
   "metadata": {
    "execution": {
     "iopub.execute_input": "2023-11-21T20:46:16.692982Z",
     "iopub.status.busy": "2023-11-21T20:46:16.692098Z",
     "iopub.status.idle": "2023-11-21T20:46:16.946642Z",
     "shell.execute_reply": "2023-11-21T20:46:16.945729Z"
    },
    "papermill": {
     "duration": 0.266769,
     "end_time": "2023-11-21T20:46:16.948752",
     "exception": false,
     "start_time": "2023-11-21T20:46:16.681983",
     "status": "completed"
    },
    "tags": []
   },
   "outputs": [
    {
     "name": "stderr",
     "output_type": "stream",
     "text": [
      "/opt/conda/lib/python3.10/site-packages/seaborn/_oldcore.py:1498: FutureWarning: is_categorical_dtype is deprecated and will be removed in a future version. Use isinstance(dtype, CategoricalDtype) instead\n",
      "  if pd.api.types.is_categorical_dtype(vector):\n",
      "/opt/conda/lib/python3.10/site-packages/seaborn/_oldcore.py:1498: FutureWarning: is_categorical_dtype is deprecated and will be removed in a future version. Use isinstance(dtype, CategoricalDtype) instead\n",
      "  if pd.api.types.is_categorical_dtype(vector):\n",
      "/opt/conda/lib/python3.10/site-packages/seaborn/_oldcore.py:1498: FutureWarning: is_categorical_dtype is deprecated and will be removed in a future version. Use isinstance(dtype, CategoricalDtype) instead\n",
      "  if pd.api.types.is_categorical_dtype(vector):\n"
     ]
    },
    {
     "data": {
      "text/plain": [
       "<Axes: xlabel='target', ylabel='count'>"
      ]
     },
     "execution_count": 10,
     "metadata": {},
     "output_type": "execute_result"
    },
    {
     "data": {
      "image/png": "[encoded data removed]",
      "text/plain": [
       "<Figure size 640x480 with 1 Axes>"
      ]
     },
     "metadata": {},
     "output_type": "display_data"
    }
   ],
   "source": [
    "import seaborn as sns\n",
    "\n",
    "# Plotting class distribution\n",
    "sns.countplot(x=target)\n"
   ]
  },
  {
   "cell_type": "code",
   "execution_count": 11,
   "id": "ca336eb9",
   "metadata": {
    "execution": {
     "iopub.execute_input": "2023-11-21T20:46:16.970871Z",
     "iopub.status.busy": "2023-11-21T20:46:16.970519Z",
     "iopub.status.idle": "2023-11-21T20:46:16.978108Z",
     "shell.execute_reply": "2023-11-21T20:46:16.977240Z"
    },
    "papermill": {
     "duration": 0.021207,
     "end_time": "2023-11-21T20:46:16.980194",
     "exception": false,
     "start_time": "2023-11-21T20:46:16.958987",
     "status": "completed"
    },
    "tags": []
   },
   "outputs": [
    {
     "data": {
      "text/plain": [
       "\"from tensorflow import keras\\nfrom tensorflow.keras import layers\\nfrom tensorflow.keras.regularizers import l2\\nfrom tensorflow.keras.optimizers import Adam\\nimport numpy as np\\n\\ninput_shape = (6, 36)  \\nclasses = len(np.unique(y))  \\n\\n\\nnormalizer = layers.Normalization(axis=-1)  \\nnormalizer.adapt(X_reshaped)\\n\\n\\nmodel = keras.Sequential()\\nmodel.add(layers.Input(shape=input_shape)) \\nmodel.add(normalizer)  \\n\\n\\nmodel.add(layers.Conv1D(16, 3, kernel_regularizer=l2(0.001), activation='relu', padding='same'))\\nmodel.add(layers.MaxPooling1D(pool_size=1))\\nmodel.add(layers.Conv1D(16, 3, kernel_regularizer=l2(0.001), activation='relu', padding='same'))\\nmodel.add(layers.MaxPooling1D(pool_size=1))\\nmodel.add(layers.Conv1D(32, 3, kernel_regularizer=l2(0.001), activation='relu', padding='same'))\\nmodel.add(layers.MaxPooling1D(pool_size=1))\\nmodel.add(layers.Conv1D(32, 3, kernel_regularizer=l2(0.001), activation='relu', padding='same'))\\nmodel.add(layers.MaxPooling1D(pool_size=1))\\nmodel.add(layers.Dropout(0.2))\\nmodel.add(layers.Flatten())\\nmodel.add(layers.Dense(classes, activation='softmax'))\\n\\n\\nopt = Adam(learning_rate=0.001)\\nmodel.compile(optimizer=opt, loss='sparse_categorical_crossentropy', metrics=['accuracy'])\\n\""
      ]
     },
     "execution_count": 11,
     "metadata": {},
     "output_type": "execute_result"
    }
   ],
   "source": [
    "'''from tensorflow import keras\n",
    "from tensorflow.keras import layers\n",
    "from tensorflow.keras.regularizers import l2\n",
    "from tensorflow.keras.optimizers import Adam\n",
    "import numpy as np\n",
    "\n",
    "input_shape = (6, 36)  \n",
    "classes = len(np.unique(y))  \n",
    "\n",
    "\n",
    "normalizer = layers.Normalization(axis=-1)  \n",
    "normalizer.adapt(X_reshaped)\n",
    "\n",
    "\n",
    "model = keras.Sequential()\n",
    "model.add(layers.Input(shape=input_shape)) \n",
    "model.add(normalizer)  \n",
    "\n",
    "\n",
    "model.add(layers.Conv1D(16, 3, kernel_regularizer=l2(0.001), activation='relu', padding='same'))\n",
    "model.add(layers.MaxPooling1D(pool_size=1))\n",
    "model.add(layers.Conv1D(16, 3, kernel_regularizer=l2(0.001), activation='relu', padding='same'))\n",
    "model.add(layers.MaxPooling1D(pool_size=1))\n",
    "model.add(layers.Conv1D(32, 3, kernel_regularizer=l2(0.001), activation='relu', padding='same'))\n",
    "model.add(layers.MaxPooling1D(pool_size=1))\n",
    "model.add(layers.Conv1D(32, 3, kernel_regularizer=l2(0.001), activation='relu', padding='same'))\n",
    "model.add(layers.MaxPooling1D(pool_size=1))\n",
    "model.add(layers.Dropout(0.2))\n",
    "model.add(layers.Flatten())\n",
    "model.add(layers.Dense(classes, activation='softmax'))\n",
    "\n",
    "\n",
    "opt = Adam(learning_rate=0.001)\n",
    "model.compile(optimizer=opt, loss='sparse_categorical_crossentropy', metrics=['accuracy'])\n",
    "'''"
   ]
  },
  {
   "cell_type": "code",
   "execution_count": 12,
   "id": "4999c20e",
   "metadata": {
    "execution": {
     "iopub.execute_input": "2023-11-21T20:46:17.001797Z",
     "iopub.status.busy": "2023-11-21T20:46:17.001290Z",
     "iopub.status.idle": "2023-11-21T20:46:17.009969Z",
     "shell.execute_reply": "2023-11-21T20:46:17.009203Z"
    },
    "papermill": {
     "duration": 0.021477,
     "end_time": "2023-11-21T20:46:17.011847",
     "exception": false,
     "start_time": "2023-11-21T20:46:16.990370",
     "status": "completed"
    },
    "tags": []
   },
   "outputs": [
    {
     "data": {
      "text/plain": [
       "\"\\nimport numpy as np\\nfrom sklearn.model_selection import KFold\\nfrom tensorflow.keras.models import Model\\nfrom tensorflow.keras.layers import LSTM, BatchNormalization, Dense, Input, Flatten, Dropout\\nfrom tensorflow.keras.optimizers import Adam\\nfrom tensorflow.keras.regularizers import l2\\nfrom tensorflow.keras.layers.experimental.preprocessing import Normalization\\n\\nX = X_reshaped\\ny = y\\n\\nnum_folds = 5\\nkfold = KFold(n_splits=num_folds, shuffle=True)\\n\\nearly_stopping = EarlyStopping(monitor='val_accuracy', patience=5, restore_best_weights=True)\\nreduce_lr = ReduceLROnPlateau(monitor='val_loss', factor=0.2, patience=3, min_lr=0.0001)\\n\\nfold_no = 1\\nfor train, test in kfold.split(X, y):\\n\\n    normalizer = Normalization(axis=-1)\\n    normalizer.adapt(X[train])\\n\\n    inputs = Input(shape=(timesteps, features_per_timestep))\\n\\n    x = normalizer(inputs)\\n    x = LSTM(8, return_sequences=True,  kernel_regularizer=l2(0.0001),recurrent_dropout=0.4)(x)\\n    x = BatchNormalization()(x)\\n\\n    x = LSTM(16, return_sequences=True, kernel_regularizer=l2(0.0001),recurrent_dropout=0.4)(x)  \\n    x = BatchNormalization()(x)\\n\\n    x = LSTM(16, return_sequences=True, kernel_regularizer=l2(0.0001),recurrent_dropout=0.4)(x)  \\n    x = BatchNormalization()(x)\\n\\n    x = LSTM(32, return_sequences=True,kernel_regularizer=l2(0.0001), recurrent_dropout=0.4)(x)  \\n    x = BatchNormalization()(x)\\n\\n    x = LSTM(32, return_sequences=True,kernel_regularizer=l2(0.0001), recurrent_dropout=0.4)(x)  \\n    x = BatchNormalization()(x)\\n\\n    x = LSTM(32, return_sequences=True,kernel_regularizer=l2(0.0001), recurrent_dropout=0.4)(x)  \\n    x = BatchNormalization()(x)\\n\\n    x = LSTM(32, return_sequences=True,kernel_regularizer=l2(0.0001), recurrent_dropout=0.4)(x)  \\n    x = BatchNormalization()(x)\\n\\n    x = LSTM(64, return_sequences=True, kernel_regularizer=l2(0.0001),recurrent_dropout=0.4)(x) \\n    x = BatchNormalization()(x)\\n\\n    x = LSTM(128, return_sequences=False, kernel_regularizer=l2(0.0001),recurrent_dropout=0.4)(x) \\n    x = BatchNormalization()(x)\\n\\n    x = Flatten()(x) \\n\\n    x = Dense(512, activation='relu')(x)\\n    x = Dropout(0.5)(x) \\n\\n    x = Dense(512, activation='relu')(x)\\n    x = Dropout(0.5)(x) \\n    outputs = Dense(classes, activation='softmax')(x)\\n    model = Model(inputs=inputs, outputs=outputs)\\n\\n    \\n    model.compile(optimizer=Adam(learning_rate=0.001),\\n                  loss='sparse_categorical_crossentropy',\\n                  metrics=['accuracy'])\\n\\n    \\n    print(f'Training for fold {fold_no} ...')\\n\\n\\n    history = model.fit(X[train], y[train],\\n                        batch_size=64,\\n                        epochs=100,\\n                        verbose=1,\\n                        validation_data=(X[test], y[test]),callbacks=[early_stopping, reduce_lr])\\n\\n\\n    fold_no = fold_no + 1\\n\""
      ]
     },
     "execution_count": 12,
     "metadata": {},
     "output_type": "execute_result"
    }
   ],
   "source": [
    "'''\n",
    "import numpy as np\n",
    "from sklearn.model_selection import KFold\n",
    "from tensorflow.keras.models import Model\n",
    "from tensorflow.keras.layers import LSTM, BatchNormalization, Dense, Input, Flatten, Dropout\n",
    "from tensorflow.keras.optimizers import Adam\n",
    "from tensorflow.keras.regularizers import l2\n",
    "from tensorflow.keras.layers.experimental.preprocessing import Normalization\n",
    "\n",
    "X = X_reshaped\n",
    "y = y\n",
    "\n",
    "num_folds = 5\n",
    "kfold = KFold(n_splits=num_folds, shuffle=True)\n",
    "\n",
    "early_stopping = EarlyStopping(monitor='val_accuracy', patience=5, restore_best_weights=True)\n",
    "reduce_lr = ReduceLROnPlateau(monitor='val_loss', factor=0.2, patience=3, min_lr=0.0001)\n",
    "\n",
    "fold_no = 1\n",
    "for train, test in kfold.split(X, y):\n",
    "\n",
    "    normalizer = Normalization(axis=-1)\n",
    "    normalizer.adapt(X[train])\n",
    "\n",
    "    inputs = Input(shape=(timesteps, features_per_timestep))\n",
    "\n",
    "    x = normalizer(inputs)\n",
    "    x = LSTM(8, return_sequences=True,  kernel_regularizer=l2(0.0001),recurrent_dropout=0.4)(x)\n",
    "    x = BatchNormalization()(x)\n",
    "\n",
    "    x = LSTM(16, return_sequences=True, kernel_regularizer=l2(0.0001),recurrent_dropout=0.4)(x)  \n",
    "    x = BatchNormalization()(x)\n",
    "\n",
    "    x = LSTM(16, return_sequences=True, kernel_regularizer=l2(0.0001),recurrent_dropout=0.4)(x)  \n",
    "    x = BatchNormalization()(x)\n",
    "\n",
    "    x = LSTM(32, return_sequences=True,kernel_regularizer=l2(0.0001), recurrent_dropout=0.4)(x)  \n",
    "    x = BatchNormalization()(x)\n",
    "\n",
    "    x = LSTM(32, return_sequences=True,kernel_regularizer=l2(0.0001), recurrent_dropout=0.4)(x)  \n",
    "    x = BatchNormalization()(x)\n",
    "\n",
    "    x = LSTM(32, return_sequences=True,kernel_regularizer=l2(0.0001), recurrent_dropout=0.4)(x)  \n",
    "    x = BatchNormalization()(x)\n",
    "\n",
    "    x = LSTM(32, return_sequences=True,kernel_regularizer=l2(0.0001), recurrent_dropout=0.4)(x)  \n",
    "    x = BatchNormalization()(x)\n",
    "\n",
    "    x = LSTM(64, return_sequences=True, kernel_regularizer=l2(0.0001),recurrent_dropout=0.4)(x) \n",
    "    x = BatchNormalization()(x)\n",
    "\n",
    "    x = LSTM(128, return_sequences=False, kernel_regularizer=l2(0.0001),recurrent_dropout=0.4)(x) \n",
    "    x = BatchNormalization()(x)\n",
    "\n",
    "    x = Flatten()(x) \n",
    "\n",
    "    x = Dense(512, activation='relu')(x)\n",
    "    x = Dropout(0.5)(x) \n",
    "\n",
    "    x = Dense(512, activation='relu')(x)\n",
    "    x = Dropout(0.5)(x) \n",
    "    outputs = Dense(classes, activation='softmax')(x)\n",
    "    model = Model(inputs=inputs, outputs=outputs)\n",
    "\n",
    "    \n",
    "    model.compile(optimizer=Adam(learning_rate=0.001),\n",
    "                  loss='sparse_categorical_crossentropy',\n",
    "                  metrics=['accuracy'])\n",
    "\n",
    "    \n",
    "    print(f'Training for fold {fold_no} ...')\n",
    "\n",
    "\n",
    "    history = model.fit(X[train], y[train],\n",
    "                        batch_size=64,\n",
    "                        epochs=100,\n",
    "                        verbose=1,\n",
    "                        validation_data=(X[test], y[test]),callbacks=[early_stopping, reduce_lr])\n",
    "\n",
    "\n",
    "    fold_no = fold_no + 1\n",
    "'''"
   ]
  },
  {
   "cell_type": "code",
   "execution_count": 13,
   "id": "e7b9bee9",
   "metadata": {
    "execution": {
     "iopub.execute_input": "2023-11-21T20:46:17.034250Z",
     "iopub.status.busy": "2023-11-21T20:46:17.033957Z",
     "iopub.status.idle": "2023-11-21T20:46:17.043262Z",
     "shell.execute_reply": "2023-11-21T20:46:17.042268Z"
    },
    "papermill": {
     "duration": 0.023194,
     "end_time": "2023-11-21T20:46:17.045234",
     "exception": false,
     "start_time": "2023-11-21T20:46:17.022040",
     "status": "completed"
    },
    "tags": []
   },
   "outputs": [
    {
     "data": {
      "text/plain": [
       "\"classes = len(np.unique(y))  \\ntimesteps = 6\\nfeatures_per_timestep = 36\\n\\n#normalizer = Normalization(axis=-1, input_shape=(timesteps, features_per_timestep))\\n\\nmodel = Sequential()\\n#model.add(normalizer)\\n\\n#normalizer.adapt(X_reshaped)\\n\\nmodel.add(Conv1D(16, 3, kernel_regularizer=l2(0.0001), activation='relu', padding='same', input_shape=(timesteps, features_per_timestep)))\\nmodel.add(layers.MaxPooling1D(pool_size=1))\\nmodel.add(BatchNormalization())\\n\\nmodel.add(Conv1D(16, 3, kernel_regularizer=l2(0.0001), activation='relu', padding='same'))\\nmodel.add(layers.MaxPooling1D(pool_size=1))\\nmodel.add(BatchNormalization())\\n\\nmodel.add(Conv1D(16, 3, kernel_regularizer=l2(0.0001), activation='relu', padding='same', input_shape=(timesteps, features_per_timestep)))\\nmodel.add(layers.MaxPooling1D(pool_size=1))\\nmodel.add(BatchNormalization())\\n\\nmodel.add(Conv1D(16, 3, kernel_regularizer=l2(0.0001), activation='relu', padding='same'))\\nmodel.add(layers.MaxPooling1D(pool_size=1))\\nmodel.add(BatchNormalization())\\n\\nmodel.add(Dropout(0.5))\\n\\nmodel.add(layers.LSTM(16, return_sequences=True, recurrent_dropout=0.35))\\nmodel.add(layers.BatchNormalization())\\n\\nmodel.add(Conv1D(32, 3, kernel_regularizer=l2(0.0001), activation='relu', padding='same'))\\nmodel.add(layers.MaxPooling1D(pool_size=1))\\nmodel.add(BatchNormalization())\\n\\nmodel.add(Conv1D(32, 3, kernel_regularizer=l2(0.0001), activation='relu', padding='same'))\\nmodel.add(layers.MaxPooling1D(pool_size=1))\\nmodel.add(BatchNormalization())\\n\\nmodel.add(Conv1D(32, 3, kernel_regularizer=l2(0.0001), activation='relu', padding='same'))\\nmodel.add(layers.MaxPooling1D(pool_size=1))\\nmodel.add(BatchNormalization())\\n\\nmodel.add(Conv1D(32, 3, kernel_regularizer=l2(0.0001), activation='relu', padding='same'))\\nmodel.add(layers.MaxPooling1D(pool_size=1))\\nmodel.add(BatchNormalization())\\nmodel.add(Dropout(0.5))\\n\\nmodel.add(Flatten())\\n\\nmodel.add(Dense(128, activation='relu'))\\nmodel.add(Dropout(0.2))\\n\\nmodel.add(Dense(classes, activation='softmax'))\\nmodel.compile(optimizer=Adam(learning_rate=0.001), loss='sparse_categorical_crossentropy', metrics=['accuracy'])\\n\""
      ]
     },
     "execution_count": 13,
     "metadata": {},
     "output_type": "execute_result"
    }
   ],
   "source": [
    "'''classes = len(np.unique(y))  \n",
    "timesteps = 6\n",
    "features_per_timestep = 36\n",
    "\n",
    "#normalizer = Normalization(axis=-1, input_shape=(timesteps, features_per_timestep))\n",
    "\n",
    "model = Sequential()\n",
    "#model.add(normalizer)\n",
    "\n",
    "#normalizer.adapt(X_reshaped)\n",
    "\n",
    "model.add(Conv1D(16, 3, kernel_regularizer=l2(0.0001), activation='relu', padding='same', input_shape=(timesteps, features_per_timestep)))\n",
    "model.add(layers.MaxPooling1D(pool_size=1))\n",
    "model.add(BatchNormalization())\n",
    "\n",
    "model.add(Conv1D(16, 3, kernel_regularizer=l2(0.0001), activation='relu', padding='same'))\n",
    "model.add(layers.MaxPooling1D(pool_size=1))\n",
    "model.add(BatchNormalization())\n",
    "\n",
    "model.add(Conv1D(16, 3, kernel_regularizer=l2(0.0001), activation='relu', padding='same', input_shape=(timesteps, features_per_timestep)))\n",
    "model.add(layers.MaxPooling1D(pool_size=1))\n",
    "model.add(BatchNormalization())\n",
    "\n",
    "model.add(Conv1D(16, 3, kernel_regularizer=l2(0.0001), activation='relu', padding='same'))\n",
    "model.add(layers.MaxPooling1D(pool_size=1))\n",
    "model.add(BatchNormalization())\n",
    "\n",
    "model.add(Dropout(0.5))\n",
    "\n",
    "model.add(layers.LSTM(16, return_sequences=True, recurrent_dropout=0.35))\n",
    "model.add(layers.BatchNormalization())\n",
    "\n",
    "model.add(Conv1D(32, 3, kernel_regularizer=l2(0.0001), activation='relu', padding='same'))\n",
    "model.add(layers.MaxPooling1D(pool_size=1))\n",
    "model.add(BatchNormalization())\n",
    "\n",
    "model.add(Conv1D(32, 3, kernel_regularizer=l2(0.0001), activation='relu', padding='same'))\n",
    "model.add(layers.MaxPooling1D(pool_size=1))\n",
    "model.add(BatchNormalization())\n",
    "\n",
    "model.add(Conv1D(32, 3, kernel_regularizer=l2(0.0001), activation='relu', padding='same'))\n",
    "model.add(layers.MaxPooling1D(pool_size=1))\n",
    "model.add(BatchNormalization())\n",
    "\n",
    "model.add(Conv1D(32, 3, kernel_regularizer=l2(0.0001), activation='relu', padding='same'))\n",
    "model.add(layers.MaxPooling1D(pool_size=1))\n",
    "model.add(BatchNormalization())\n",
    "model.add(Dropout(0.5))\n",
    "\n",
    "model.add(Flatten())\n",
    "\n",
    "model.add(Dense(128, activation='relu'))\n",
    "model.add(Dropout(0.2))\n",
    "\n",
    "model.add(Dense(classes, activation='softmax'))\n",
    "model.compile(optimizer=Adam(learning_rate=0.001), loss='sparse_categorical_crossentropy', metrics=['accuracy'])\n",
    "'''"
   ]
  },
  {
   "cell_type": "code",
   "execution_count": 14,
   "id": "d5de9500",
   "metadata": {
    "execution": {
     "iopub.execute_input": "2023-11-21T20:46:17.067454Z",
     "iopub.status.busy": "2023-11-21T20:46:17.067187Z",
     "iopub.status.idle": "2023-11-21T20:46:23.336298Z",
     "shell.execute_reply": "2023-11-21T20:46:23.335334Z"
    },
    "papermill": {
     "duration": 6.282912,
     "end_time": "2023-11-21T20:46:23.338834",
     "exception": false,
     "start_time": "2023-11-21T20:46:17.055922",
     "status": "completed"
    },
    "tags": []
   },
   "outputs": [],
   "source": [
    "def mymainmodel():\n",
    "    normalizer = Normalization(axis=-1)\n",
    "    normalizer.adapt(features_reshaped)\n",
    "\n",
    "    inputs = Input(shape=(num_timesteps, num_features_per_timestep))\n",
    "\n",
    "\n",
    "    x = normalizer(inputs)\n",
    "    \n",
    "    x = Bidirectional(GRU(16, return_sequences=True))(x)  \n",
    "    x = BatchNormalization()(x)\n",
    "\n",
    "    x = Bidirectional(GRU(16, return_sequences=True))(x)  \n",
    "    x = BatchNormalization()(x)\n",
    "\n",
    "    x = Bidirectional(LSTM(16, return_sequences=True, kernel_regularizer=l2(0.0001), recurrent_dropout=0.2))(x)  \n",
    "    x = BatchNormalization()(x)\n",
    "\n",
    "    x = Bidirectional(LSTM(32, return_sequences=True, kernel_regularizer=l2(0.0001), recurrent_dropout=0.2))(x)  \n",
    "    x = BatchNormalization()(x)\n",
    "\n",
    "    x = SimpleRNN(16, return_sequences=True)(x)  \n",
    "    x = BatchNormalization()(x)\n",
    "\n",
    "    x = SimpleRNN(32, return_sequences=True)(x)  \n",
    "    x = BatchNormalization()(x)\n",
    "    \n",
    "    x = LSTM(16, return_sequences=True,  kernel_regularizer=l2(0.0001))(x)\n",
    "    x = BatchNormalization()(x)\n",
    "\n",
    "    x = LSTM(32, return_sequences=True,kernel_regularizer=l2(0.0001), recurrent_dropout=0.2)(x)  \n",
    "    x = BatchNormalization()(x)\n",
    "\n",
    "    x = LSTM(64, return_sequences=False, kernel_regularizer=l2(0.0001),recurrent_dropout=0.2)(x) \n",
    "    x = BatchNormalization()(x)\n",
    "\n",
    "    x = Flatten()(x) \n",
    "    x = Dense(256, activation='relu')(x)\n",
    "    x = Dropout(0.2)(x) \n",
    "\n",
    "    outputs = Dense(11, activation='softmax')(x)\n",
    "    model = Model(inputs=inputs, outputs=outputs)\n",
    "\n",
    "    model.compile(optimizer=Adam(learning_rate=0.001), loss='sparse_categorical_crossentropy', metrics=['accuracy'])\n",
    "    return model\n",
    "\n",
    "model = mymainmodel()"
   ]
  },
  {
   "cell_type": "code",
   "execution_count": 15,
   "id": "567c88a6",
   "metadata": {
    "execution": {
     "iopub.execute_input": "2023-11-21T20:46:23.361253Z",
     "iopub.status.busy": "2023-11-21T20:46:23.360930Z",
     "iopub.status.idle": "2023-11-21T20:46:23.433045Z",
     "shell.execute_reply": "2023-11-21T20:46:23.432232Z"
    },
    "papermill": {
     "duration": 0.103527,
     "end_time": "2023-11-21T20:46:23.453051",
     "exception": false,
     "start_time": "2023-11-21T20:46:23.349524",
     "status": "completed"
    },
    "tags": []
   },
   "outputs": [
    {
     "name": "stdout",
     "output_type": "stream",
     "text": [
      "Model: \"model\"\n",
      "_________________________________________________________________\n",
      " Layer (type)                Output Shape              Param #   \n",
      "=================================================================\n",
      " input_1 (InputLayer)        [(None, 6, 36)]           0         \n",
      "                                                                 \n",
      " normalization (Normalizati  (None, 6, 36)             73        \n",
      " on)                                                             \n",
      "                                                                 \n",
      " bidirectional (Bidirection  (None, 6, 32)             5184      \n",
      " al)                                                             \n",
      "                                                                 \n",
      " batch_normalization (Batch  (None, 6, 32)             128       \n",
      " Normalization)                                                  \n",
      "                                                                 \n",
      " bidirectional_1 (Bidirecti  (None, 6, 32)             4800      \n",
      " onal)                                                           \n",
      "                                                                 \n",
      " batch_normalization_1 (Bat  (None, 6, 32)             128       \n",
      " chNormalization)                                                \n",
      "                                                                 \n",
      " bidirectional_2 (Bidirecti  (None, 6, 32)             6272      \n",
      " onal)                                                           \n",
      "                                                                 \n",
      " batch_normalization_2 (Bat  (None, 6, 32)             128       \n",
      " chNormalization)                                                \n",
      "                                                                 \n",
      " bidirectional_3 (Bidirecti  (None, 6, 64)             16640     \n",
      " onal)                                                           \n",
      "                                                                 \n",
      " batch_normalization_3 (Bat  (None, 6, 64)             256       \n",
      " chNormalization)                                                \n",
      "                                                                 \n",
      " simple_rnn (SimpleRNN)      (None, 6, 16)             1296      \n",
      "                                                                 \n",
      " batch_normalization_4 (Bat  (None, 6, 16)             64        \n",
      " chNormalization)                                                \n",
      "                                                                 \n",
      " simple_rnn_1 (SimpleRNN)    (None, 6, 32)             1568      \n",
      "                                                                 \n",
      " batch_normalization_5 (Bat  (None, 6, 32)             128       \n",
      " chNormalization)                                                \n",
      "                                                                 \n",
      " lstm_2 (LSTM)               (None, 6, 16)             3136      \n",
      "                                                                 \n",
      " batch_normalization_6 (Bat  (None, 6, 16)             64        \n",
      " chNormalization)                                                \n",
      "                                                                 \n",
      " lstm_3 (LSTM)               (None, 6, 32)             6272      \n",
      "                                                                 \n",
      " batch_normalization_7 (Bat  (None, 6, 32)             128       \n",
      " chNormalization)                                                \n",
      "                                                                 \n",
      " lstm_4 (LSTM)               (None, 64)                24832     \n",
      "                                                                 \n",
      " batch_normalization_8 (Bat  (None, 64)                256       \n",
      " chNormalization)                                                \n",
      "                                                                 \n",
      " flatten (Flatten)           (None, 64)                0         \n",
      "                                                                 \n",
      " dense (Dense)               (None, 256)               16640     \n",
      "                                                                 \n",
      " dropout (Dropout)           (None, 256)               0         \n",
      "                                                                 \n",
      " dense_1 (Dense)             (None, 11)                2827      \n",
      "                                                                 \n",
      "=================================================================\n",
      "Total params: 90820 (354.77 KB)\n",
      "Trainable params: 90107 (351.98 KB)\n",
      "Non-trainable params: 713 (2.79 KB)\n",
      "_________________________________________________________________\n"
     ]
    }
   ],
   "source": [
    "model.summary()"
   ]
  },
  {
   "cell_type": "code",
   "execution_count": 16,
   "id": "e711637f",
   "metadata": {
    "execution": {
     "iopub.execute_input": "2023-11-21T20:46:23.485882Z",
     "iopub.status.busy": "2023-11-21T20:46:23.485583Z",
     "iopub.status.idle": "2023-11-21T20:49:22.839718Z",
     "shell.execute_reply": "2023-11-21T20:49:22.838844Z"
    },
    "papermill": {
     "duration": 179.373004,
     "end_time": "2023-11-21T20:49:22.841706",
     "exception": false,
     "start_time": "2023-11-21T20:46:23.468702",
     "status": "completed"
    },
    "tags": []
   },
   "outputs": [
    {
     "name": "stdout",
     "output_type": "stream",
     "text": [
      "Epoch 1/100\n",
      "42/42 [==============================] - 43s 233ms/step - loss: 2.1092 - accuracy: 0.2876 - val_loss: 2.3667 - val_accuracy: 0.3289 - lr: 0.0010\n",
      "Epoch 2/100\n",
      "42/42 [==============================] - 7s 159ms/step - loss: 1.8714 - accuracy: 0.3677 - val_loss: 2.3300 - val_accuracy: 0.3318 - lr: 0.0010\n",
      "Epoch 3/100\n",
      "42/42 [==============================] - 6s 155ms/step - loss: 1.7624 - accuracy: 0.3901 - val_loss: 2.2780 - val_accuracy: 0.3348 - lr: 0.0010\n",
      "Epoch 4/100\n",
      "42/42 [==============================] - 6s 154ms/step - loss: 1.6879 - accuracy: 0.4020 - val_loss: 2.1985 - val_accuracy: 0.3497 - lr: 0.0010\n",
      "Epoch 5/100\n",
      "42/42 [==============================] - 6s 154ms/step - loss: 1.6055 - accuracy: 0.4508 - val_loss: 2.0978 - val_accuracy: 0.3601 - lr: 0.0010\n",
      "Epoch 6/100\n",
      "42/42 [==============================] - 6s 154ms/step - loss: 1.5720 - accuracy: 0.4411 - val_loss: 1.9589 - val_accuracy: 0.3869 - lr: 0.0010\n",
      "Epoch 7/100\n",
      "42/42 [==============================] - 7s 156ms/step - loss: 1.5136 - accuracy: 0.4721 - val_loss: 1.9752 - val_accuracy: 0.3839 - lr: 0.0010\n",
      "Epoch 8/100\n",
      "42/42 [==============================] - 7s 155ms/step - loss: 1.4849 - accuracy: 0.4877 - val_loss: 1.7132 - val_accuracy: 0.4092 - lr: 0.0010\n",
      "Epoch 9/100\n",
      "42/42 [==============================] - 7s 155ms/step - loss: 1.4609 - accuracy: 0.4858 - val_loss: 1.6074 - val_accuracy: 0.4598 - lr: 0.0010\n",
      "Epoch 10/100\n",
      "42/42 [==============================] - 6s 152ms/step - loss: 1.3974 - accuracy: 0.5190 - val_loss: 1.6286 - val_accuracy: 0.4479 - lr: 0.0010\n",
      "Epoch 11/100\n",
      "42/42 [==============================] - 7s 155ms/step - loss: 1.3581 - accuracy: 0.5272 - val_loss: 1.6929 - val_accuracy: 0.4420 - lr: 0.0010\n",
      "Epoch 12/100\n",
      "42/42 [==============================] - 7s 161ms/step - loss: 1.3501 - accuracy: 0.5320 - val_loss: 1.6481 - val_accuracy: 0.4613 - lr: 0.0010\n",
      "Epoch 13/100\n",
      "42/42 [==============================] - 6s 153ms/step - loss: 1.2771 - accuracy: 0.5566 - val_loss: 1.5629 - val_accuracy: 0.4762 - lr: 2.0000e-04\n",
      "Epoch 14/100\n",
      "42/42 [==============================] - 6s 153ms/step - loss: 1.2419 - accuracy: 0.5723 - val_loss: 1.5346 - val_accuracy: 0.4851 - lr: 2.0000e-04\n",
      "Epoch 15/100\n",
      "42/42 [==============================] - 6s 151ms/step - loss: 1.2295 - accuracy: 0.5741 - val_loss: 1.5160 - val_accuracy: 0.5060 - lr: 2.0000e-04\n",
      "Epoch 16/100\n",
      "42/42 [==============================] - 6s 150ms/step - loss: 1.1846 - accuracy: 0.5920 - val_loss: 1.5011 - val_accuracy: 0.5223 - lr: 2.0000e-04\n",
      "Epoch 17/100\n",
      "42/42 [==============================] - 7s 158ms/step - loss: 1.1989 - accuracy: 0.5917 - val_loss: 1.4665 - val_accuracy: 0.5268 - lr: 2.0000e-04\n",
      "Epoch 18/100\n",
      "42/42 [==============================] - 6s 152ms/step - loss: 1.1781 - accuracy: 0.6058 - val_loss: 1.4998 - val_accuracy: 0.5074 - lr: 2.0000e-04\n",
      "Epoch 19/100\n",
      "42/42 [==============================] - 6s 149ms/step - loss: 1.1807 - accuracy: 0.5984 - val_loss: 1.4863 - val_accuracy: 0.5268 - lr: 2.0000e-04\n",
      "Epoch 20/100\n",
      "42/42 [==============================] - 6s 151ms/step - loss: 1.1534 - accuracy: 0.6069 - val_loss: 1.5262 - val_accuracy: 0.5089 - lr: 2.0000e-04\n",
      "Epoch 21/100\n",
      "42/42 [==============================] - 6s 153ms/step - loss: 1.1686 - accuracy: 0.6021 - val_loss: 1.5129 - val_accuracy: 0.5179 - lr: 1.0000e-04\n",
      "Epoch 22/100\n",
      "42/42 [==============================] - 7s 156ms/step - loss: 1.1345 - accuracy: 0.6077 - val_loss: 1.4903 - val_accuracy: 0.5268 - lr: 1.0000e-04\n"
     ]
    }
   ],
   "source": [
    "stopper = EarlyStopping(\n",
    "    monitor='val_accuracy', \n",
    "    patience=5, \n",
    "    restore_best_weights=True\n",
    ")\n",
    "\n",
    "lr_adjuster = ReduceLROnPlateau(\n",
    "    monitor='val_loss', \n",
    "    factor=0.2, \n",
    "    patience=3, \n",
    "    min_lr=0.0001\n",
    ")\n",
    "\n",
    "\n",
    "fit_result = model.fit(\n",
    "    features_reshaped, \n",
    "    target_array, \n",
    "    epochs=100, \n",
    "    batch_size=64, \n",
    "    validation_split=0.2, \n",
    "    callbacks=[stopper, lr_adjuster]\n",
    ")"
   ]
  },
  {
   "cell_type": "markdown",
   "id": "4cbb279e",
   "metadata": {
    "papermill": {
     "duration": 0.094711,
     "end_time": "2023-11-21T20:49:23.030627",
     "exception": false,
     "start_time": "2023-11-21T20:49:22.935916",
     "status": "completed"
    },
    "tags": []
   },
   "source": [
    "# **Plots of accuracy and loss**"
   ]
  },
  {
   "cell_type": "code",
   "execution_count": 17,
   "id": "d67602b9",
   "metadata": {
    "execution": {
     "iopub.execute_input": "2023-11-21T20:49:23.220676Z",
     "iopub.status.busy": "2023-11-21T20:49:23.220318Z",
     "iopub.status.idle": "2023-11-21T20:49:23.692209Z",
     "shell.execute_reply": "2023-11-21T20:49:23.691291Z"
    },
    "papermill": {
     "duration": 0.567867,
     "end_time": "2023-11-21T20:49:23.694693",
     "exception": false,
     "start_time": "2023-11-21T20:49:23.126826",
     "status": "completed"
    },
    "tags": []
   },
   "outputs": [
    {
     "data": {
      "image/png": "[encoded data removed]",
      "text/plain": [
       "<Figure size 1200x500 with 2 Axes>"
      ]
     },
     "metadata": {},
     "output_type": "display_data"
    }
   ],
   "source": [
    "import matplotlib.pyplot as plt\n",
    "\n",
    "plt.figure(figsize=(12, 5))\n",
    "plt.subplot(1, 2, 1)\n",
    "plt.plot(fit_result.history['loss'], label='Train Loss')\n",
    "plt.plot(fit_result.history['val_loss'], label='Validation Loss')\n",
    "plt.title('Loss Over Epochs')\n",
    "plt.legend()\n",
    "\n",
    "plt.subplot(1, 2, 2)\n",
    "plt.plot(fit_result.history['accuracy'], label='Train Accuracy')\n",
    "plt.plot(fit_result.history['val_accuracy'], label='Validation Accuracy')\n",
    "plt.title('Accuracy Over Epochs')\n",
    "plt.legend()\n",
    "plt.show()"
   ]
  },
  {
   "cell_type": "code",
   "execution_count": 18,
   "id": "52ed9ee8",
   "metadata": {
    "execution": {
     "iopub.execute_input": "2023-11-21T20:49:23.885252Z",
     "iopub.status.busy": "2023-11-21T20:49:23.884941Z",
     "iopub.status.idle": "2023-11-21T20:49:27.751164Z",
     "shell.execute_reply": "2023-11-21T20:49:27.750245Z"
    },
    "papermill": {
     "duration": 3.962197,
     "end_time": "2023-11-21T20:49:27.753530",
     "exception": false,
     "start_time": "2023-11-21T20:49:23.791333",
     "status": "completed"
    },
    "tags": []
   },
   "outputs": [
    {
     "name": "stdout",
     "output_type": "stream",
     "text": [
      "45/45 [==============================] - 4s 15ms/step\n"
     ]
    }
   ],
   "source": [
    "predictions = model.predict(test_features_reshaped)\n",
    "submission = pd.DataFrame(predictions, columns=['c-15', 'c-16', 'c-42', 'c-52', 'c-62', 'c-65', 'c-67', 'c-88', 'c-90', 'c-92', 'c-95'])\n",
    "submission.insert(0, 'ID', test_data.index)\n",
    "submission.to_csv('/kaggle/working/submission.csv', index=False)"
   ]
  },
  {
   "cell_type": "code",
   "execution_count": 19,
   "id": "c9822e56",
   "metadata": {
    "execution": {
     "iopub.execute_input": "2023-11-21T20:49:27.951531Z",
     "iopub.status.busy": "2023-11-21T20:49:27.951199Z",
     "iopub.status.idle": "2023-11-21T20:49:27.972739Z",
     "shell.execute_reply": "2023-11-21T20:49:27.971505Z"
    },
    "papermill": {
     "duration": 0.119948,
     "end_time": "2023-11-21T20:49:27.974922",
     "exception": false,
     "start_time": "2023-11-21T20:49:27.854974",
     "status": "completed"
    },
    "tags": []
   },
   "outputs": [
    {
     "name": "stdout",
     "output_type": "stream",
     "text": [
      "        ID      c-15      c-16      c-42      c-52      c-62      c-65  \\\n",
      "0        0  0.004314  0.000550  0.525787  0.017470  0.236753  0.000763   \n",
      "1        1  0.006606  0.000542  0.312591  0.048727  0.386490  0.003237   \n",
      "2        2  0.027693  0.000412  0.178703  0.021989  0.043014  0.001873   \n",
      "3        3  0.004987  0.000467  0.485352  0.031516  0.235344  0.000524   \n",
      "4        4  0.000209  0.735717  0.000120  0.000012  0.000032  0.003410   \n",
      "...    ...       ...       ...       ...       ...       ...       ...   \n",
      "1434  1434  0.176819  0.004758  0.232004  0.033768  0.040899  0.032801   \n",
      "1435  1435  0.000480  0.099924  0.000725  0.000148  0.000340  0.432197   \n",
      "1436  1436  0.013244  0.000657  0.201808  0.038911  0.212808  0.004308   \n",
      "1437  1437  0.019322  0.005302  0.077561  0.043647  0.056791  0.057384   \n",
      "1438  1438  0.016748  0.000402  0.310504  0.025909  0.334917  0.001206   \n",
      "\n",
      "          c-67      c-88      c-90      c-92      c-95  \n",
      "0     0.019146  0.001279  0.144620  0.000024  0.049294  \n",
      "1     0.051587  0.000791  0.177011  0.000075  0.012344  \n",
      "2     0.017899  0.003553  0.688917  0.000028  0.015920  \n",
      "3     0.033413  0.001561  0.160654  0.000014  0.046168  \n",
      "4     0.000021  0.001841  0.000101  0.258481  0.000057  \n",
      "...        ...       ...       ...       ...       ...  \n",
      "1434  0.047414  0.009913  0.404884  0.003075  0.013664  \n",
      "1435  0.000169  0.461534  0.003214  0.001172  0.000096  \n",
      "1436  0.021110  0.000786  0.496436  0.000107  0.009826  \n",
      "1437  0.039853  0.005425  0.687758  0.000588  0.006368  \n",
      "1438  0.020632  0.000737  0.266545  0.000057  0.022342  \n",
      "\n",
      "[1439 rows x 12 columns]\n"
     ]
    }
   ],
   "source": [
    "data = pd.read_csv('submission.csv')\n",
    "print(data)"
   ]
  },
  {
   "cell_type": "code",
   "execution_count": null,
   "id": "1b2b4163",
   "metadata": {
    "papermill": {
     "duration": 0.096135,
     "end_time": "2023-11-21T20:49:28.163534",
     "exception": false,
     "start_time": "2023-11-21T20:49:28.067399",
     "status": "completed"
    },
    "tags": []
   },
   "outputs": [],
   "source": []
  },
  {
   "cell_type": "code",
   "execution_count": 20,
   "id": "19961623",
   "metadata": {
    "execution": {
     "iopub.execute_input": "2023-11-21T20:49:28.356537Z",
     "iopub.status.busy": "2023-11-21T20:49:28.355794Z",
     "iopub.status.idle": "2023-11-21T20:49:28.362591Z",
     "shell.execute_reply": "2023-11-21T20:49:28.361724Z"
    },
    "papermill": {
     "duration": 0.104269,
     "end_time": "2023-11-21T20:49:28.364680",
     "exception": false,
     "start_time": "2023-11-21T20:49:28.260411",
     "status": "completed"
    },
    "tags": []
   },
   "outputs": [
    {
     "data": {
      "text/plain": [
       "'from sklearn.utils import resample\\n\\n# Separate majority and minority classes\\nclass_counts = target.value_counts()\\nmajority_class = class_counts.idxmax()\\nminority_classes = class_counts[class_counts < class_counts[majority_class]].index\\n\\n# Upsample minority classes\\nfor cls in minority_classes:\\n    class_samples = features_reshaped[target == cls]\\n    upsampled_class_samples = resample(class_samples,\\n                                       replace=True,     # sample with replacement\\n                                       n_samples=class_counts[majority_class], # to match majority class\\n                                       random_state=123) # reproducible results\\n\\n    # Append to the features and target\\n    features_reshaped = np.vstack([features_reshaped, upsampled_class_samples])\\n    target = pd.concat([target, pd.Series([cls] * len(upsampled_class_samples))])\\n/'"
      ]
     },
     "execution_count": 20,
     "metadata": {},
     "output_type": "execute_result"
    }
   ],
   "source": [
    "'''from sklearn.utils import resample\n",
    "\n",
    "# Separate majority and minority classes\n",
    "class_counts = target.value_counts()\n",
    "majority_class = class_counts.idxmax()\n",
    "minority_classes = class_counts[class_counts < class_counts[majority_class]].index\n",
    "\n",
    "# Upsample minority classes\n",
    "for cls in minority_classes:\n",
    "    class_samples = features_reshaped[target == cls]\n",
    "    upsampled_class_samples = resample(class_samples,\n",
    "                                       replace=True,     # sample with replacement\n",
    "                                       n_samples=class_counts[majority_class], # to match majority class\n",
    "                                       random_state=123) # reproducible results\n",
    "\n",
    "    # Append to the features and target\n",
    "    features_reshaped = np.vstack([features_reshaped, upsampled_class_samples])\n",
    "    target = pd.concat([target, pd.Series([cls] * len(upsampled_class_samples))])\n",
    "/'''"
   ]
  },
  {
   "cell_type": "code",
   "execution_count": 21,
   "id": "e2ac6df6",
   "metadata": {
    "execution": {
     "iopub.execute_input": "2023-11-21T20:49:28.565263Z",
     "iopub.status.busy": "2023-11-21T20:49:28.564907Z",
     "iopub.status.idle": "2023-11-21T20:49:28.571311Z",
     "shell.execute_reply": "2023-11-21T20:49:28.570429Z"
    },
    "papermill": {
     "duration": 0.113408,
     "end_time": "2023-11-21T20:49:28.573455",
     "exception": false,
     "start_time": "2023-11-21T20:49:28.460047",
     "status": "completed"
    },
    "tags": []
   },
   "outputs": [
    {
     "data": {
      "text/plain": [
       "\"from sklearn.utils.class_weight import compute_class_weight\\n\\nclass_weights = compute_class_weight('balanced', classes=np.unique(target), y=target)\\nclass_weight_dict = dict(enumerate(class_weights))\\n\""
      ]
     },
     "execution_count": 21,
     "metadata": {},
     "output_type": "execute_result"
    }
   ],
   "source": [
    "'''from sklearn.utils.class_weight import compute_class_weight\n",
    "\n",
    "class_weights = compute_class_weight('balanced', classes=np.unique(target), y=target)\n",
    "class_weight_dict = dict(enumerate(class_weights))\n",
    "'''"
   ]
  },
  {
   "cell_type": "code",
   "execution_count": 22,
   "id": "5794aba6",
   "metadata": {
    "execution": {
     "iopub.execute_input": "2023-11-21T20:49:28.783283Z",
     "iopub.status.busy": "2023-11-21T20:49:28.782954Z",
     "iopub.status.idle": "2023-11-21T20:49:28.789157Z",
     "shell.execute_reply": "2023-11-21T20:49:28.788216Z"
    },
    "papermill": {
     "duration": 0.11373,
     "end_time": "2023-11-21T20:49:28.791261",
     "exception": false,
     "start_time": "2023-11-21T20:49:28.677531",
     "status": "completed"
    },
    "tags": []
   },
   "outputs": [
    {
     "data": {
      "text/plain": [
       "'\\n# Training with class weights\\nmodel = mymainmodel()\\nhistory = model.fit(features_reshaped, target, epochs=10, batch_size=64, class_weight=class_weight_dict, callbacks=[stopper, lr_adjuster])\\n'"
      ]
     },
     "execution_count": 22,
     "metadata": {},
     "output_type": "execute_result"
    }
   ],
   "source": [
    "'''\n",
    "# Training with class weights\n",
    "model = mymainmodel()\n",
    "history = model.fit(features_reshaped, target, epochs=10, batch_size=64, class_weight=class_weight_dict, callbacks=[stopper, lr_adjuster])\n",
    "'''"
   ]
  }
 ],
 "metadata": {
  "kaggle": {
   "accelerator": "nvidiaTeslaT4",
   "dataSources": [
    {
     "databundleVersionId": 6978984,
     "sourceId": 63792,
     "sourceType": "competition"
    }
   ],
   "dockerImageVersionId": 30579,
   "isGpuEnabled": true,
   "isInternetEnabled": true,
   "language": "python",
   "sourceType": "notebook"
  },
  "kernelspec": {
   "display_name": "Python 3",
   "language": "python",
   "name": "python3"
  },
  "language_info": {
   "codemirror_mode": {
    "name": "ipython",
    "version": 3
   },
   "file_extension": ".py",
   "mimetype": "text/x-python",
   "name": "python",
   "nbconvert_exporter": "python",
   "pygments_lexer": "ipython3",
   "version": "3.10.12"
  },
  "papermill": {
   "default_parameters": {},
   "duration": 213.687354,
   "end_time": "2023-11-21T20:49:32.738176",
   "environment_variables": {},
   "exception": null,
   "input_path": "__notebook__.ipynb",
   "output_path": "__notebook__.ipynb",
   "parameters": {},
   "start_time": "2023-11-21T20:45:59.050822",
   "version": "2.4.0"
  }
 },
 "nbformat": 4,
 "nbformat_minor": 5
}
